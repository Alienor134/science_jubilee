{
 "cells": [
  {
   "cell_type": "code",
   "execution_count": 3,
   "id": "711af269-4e29-4dab-a310-930f8a4039a0",
   "metadata": {
    "tags": []
   },
   "outputs": [
    {
     "name": "stdout",
     "output_type": "stream",
     "text": [
      "The autoreload extension is already loaded. To reload it, use:\n",
      "  %reload_ext autoreload\n"
     ]
    }
   ],
   "source": [
    "%load_ext autoreload\n",
    "%autoreload 2\n",
    "from science_jubilee.Machine import Machine"
   ]
  },
  {
   "cell_type": "code",
   "execution_count": 12,
   "id": "3b89fccd-16e4-4d97-ba5f-b1dde15bbfc5",
   "metadata": {
    "tags": []
   },
   "outputs": [],
   "source": [
    "m = Machine(address='jubilee.local')"
   ]
  },
  {
   "cell_type": "code",
   "execution_count": 16,
   "id": "39608af4-5d07-42b6-923f-ba29545e63bf",
   "metadata": {
    "tags": []
   },
   "outputs": [],
   "source": [
    "m.move_to(x=100)"
   ]
  },
  {
   "cell_type": "code",
   "execution_count": null,
   "id": "d07cf751-981e-422b-ba01-de197007e105",
   "metadata": {},
   "outputs": [],
   "source": []
  }
 ],
 "metadata": {
  "kernelspec": {
   "display_name": "Python 3 (ipykernel)",
   "language": "python",
   "name": "python3"
  },
  "language_info": {
   "codemirror_mode": {
    "name": "ipython",
    "version": 3
   },
   "file_extension": ".py",
   "mimetype": "text/x-python",
   "name": "python",
   "nbconvert_exporter": "python",
   "pygments_lexer": "ipython3",
   "version": "3.7.3"
  }
 },
 "nbformat": 4,
 "nbformat_minor": 5
}
