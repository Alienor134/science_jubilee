{
 "cells": [
  {
   "cell_type": "markdown",
   "id": "19366248",
   "metadata": {},
   "source": [
    "# Deck Calibration\n",
    "After installing a lab automation deck on the machine, we need to record reference positions for each of the six slots for exact alingment. Step through this notebook to create a lab_automation_deck_config.json file!\n",
    "\n",
    "This notebook assumes you have a top-down camera tool setup on your machine. If you don't, you can use another tool to manually align each offset."
   ]
  },
  {
   "cell_type": "code",
   "execution_count": 1,
   "id": "0f29d106",
   "metadata": {},
   "outputs": [],
   "source": [
    "from science_jubilee.Machine import Machine, get_root_dir\n",
    "from science_jubilee.tools.Camera import Camera\n",
    "import json\n",
    "import os\n",
    "%load_ext autoreload\n",
    "%autoreload 2"
   ]
  },
  {
   "cell_type": "code",
   "execution_count": 2,
   "id": "6dbd036d",
   "metadata": {},
   "outputs": [],
   "source": [
    "m = Machine()\n",
    "plate_config = {}"
   ]
  },
  {
   "cell_type": "code",
   "execution_count": null,
   "id": "284ab467",
   "metadata": {},
   "outputs": [],
   "source": [
    "# Check which tools are currently configured on your machine\n",
    "m._configured_tools"
   ]
  },
  {
   "cell_type": "code",
   "execution_count": 6,
   "id": "9e0d591b",
   "metadata": {},
   "outputs": [],
   "source": [
    "# Load your camera tool\n",
    "camera = Camera(index=3, name=\"TopDownCamera\")\n",
    "m.load_tool(camera)"
   ]
  },
  {
   "cell_type": "code",
   "execution_count": 7,
   "id": "519586c0-7ed0-42c5-a40a-be1d4015e1e2",
   "metadata": {
    "tags": []
   },
   "outputs": [],
   "source": [
    "m.pickup_tool(camera)"
   ]
  },
  {
   "cell_type": "code",
   "execution_count": 8,
   "id": "d7d687f2",
   "metadata": {},
   "outputs": [],
   "source": [
    "# Move to your camera's focus height\n",
    "# For me, that's z=30mm\n",
    "m.move_to(z=30)"
   ]
  },
  {
   "cell_type": "code",
   "execution_count": 10,
   "id": "ebce24d1",
   "metadata": {},
   "outputs": [
    {
     "name": "stdout",
     "output_type": "stream",
     "text": [
      "(320, 240)\n"
     ]
    }
   ],
   "source": [
    "# The 0th slot is closest to the machine's (0,0)\n",
    "# Open a camera feed and position the camera using the duet web controller\n",
    "# so that the center of the camera is over the slot corner closest to well A1\n",
    "# press esc when done to close the camera feed\n",
    "m.move_to(x=30, y=30)\n",
    "camera.video_stream(0)"
   ]
  },
  {
   "cell_type": "code",
   "execution_count": null,
   "id": "5e838c96",
   "metadata": {},
   "outputs": [],
   "source": [
    "# save this position\n",
    "slot0_x = m.get_position()['X']\n",
    "slot0_y = m.get_position()['Y']\n",
    "\n",
    "plate_config[0] = (slot0_x, slot0_y)"
   ]
  },
  {
   "cell_type": "code",
   "execution_count": null,
   "id": "4ff27687",
   "metadata": {},
   "outputs": [],
   "source": [
    "# now, repeat this in the following cells for each of the other slots!\n",
    "# align to the same corner for each slot"
   ]
  },
  {
   "cell_type": "code",
   "execution_count": null,
   "id": "0b286d5b",
   "metadata": {},
   "outputs": [],
   "source": [
    "# slot 1\n",
    "m.tool.video_stream(2)"
   ]
  },
  {
   "cell_type": "code",
   "execution_count": null,
   "id": "2d9d9cdc",
   "metadata": {},
   "outputs": [],
   "source": [
    "slot1_x = m.get_position()['X']\n",
    "slot1_y = m.get_position()['Y']\n",
    "\n",
    "plate_config[1] = (slot1_x, slot1_y)"
   ]
  },
  {
   "cell_type": "code",
   "execution_count": null,
   "id": "044ede74",
   "metadata": {},
   "outputs": [],
   "source": [
    "# slot 2\n",
    "m.tool.video_stream(2)"
   ]
  },
  {
   "cell_type": "code",
   "execution_count": null,
   "id": "666a1b78",
   "metadata": {},
   "outputs": [],
   "source": [
    "slot2_x = m.get_position()['X']\n",
    "slot2_y = m.get_position()['Y']\n",
    "\n",
    "plate_config[2] = (slot2_x, slot2_y)"
   ]
  },
  {
   "cell_type": "code",
   "execution_count": null,
   "id": "cf5a4f67",
   "metadata": {},
   "outputs": [],
   "source": [
    "# slot 3\n",
    "m.tool.video_stream(2)"
   ]
  },
  {
   "cell_type": "code",
   "execution_count": null,
   "id": "5d21b486",
   "metadata": {},
   "outputs": [],
   "source": [
    "slot3_x = m.get_position()['X']\n",
    "slot3_y = m.get_position()['Y']\n",
    "\n",
    "plate_config[3] = (slot3_x, slot3_y)"
   ]
  },
  {
   "cell_type": "code",
   "execution_count": null,
   "id": "3608bc74",
   "metadata": {},
   "outputs": [],
   "source": [
    "# slot 4\n",
    "m.tool.video_stream(2)"
   ]
  },
  {
   "cell_type": "code",
   "execution_count": null,
   "id": "f6132fbf",
   "metadata": {},
   "outputs": [],
   "source": [
    "slot4_x = m.get_position()['X']\n",
    "slot4_y = m.get_position()['Y']\n",
    "\n",
    "plate_config[4] = (slot4_x, slot4_y)"
   ]
  },
  {
   "cell_type": "code",
   "execution_count": null,
   "id": "58d437f4",
   "metadata": {},
   "outputs": [],
   "source": [
    "# slot 5\n",
    "m.tool.video_stream(2)"
   ]
  },
  {
   "cell_type": "code",
   "execution_count": null,
   "id": "f428490e",
   "metadata": {},
   "outputs": [],
   "source": [
    "slot5_x = m.get_position()['X']\n",
    "slot5_y = m.get_position()['Y']\n",
    "\n",
    "plate_config[5] = (slot5_x, slot5_y)"
   ]
  },
  {
   "cell_type": "code",
   "execution_count": null,
   "id": "99803e1b-51e6-4399-86e8-7b6192e2552d",
   "metadata": {
    "tags": []
   },
   "outputs": [],
   "source": [
    "# If you'll be using a sharps container, ensure your sharps container is installed \n",
    "# and center over the dropoff location\n",
    "# TODO"
   ]
  },
  {
   "cell_type": "code",
   "execution_count": null,
   "id": "3f0aca1a",
   "metadata": {},
   "outputs": [],
   "source": [
    "plate_config_path = os.path.join(get_root_dir(), 'config/machine/base_plate_config.json')\n",
    "with open(plate_config_path, 'w') as f:\n",
    "    json.dump(plate_config, f, indent=4)"
   ]
  },
  {
   "cell_type": "code",
   "execution_count": null,
   "id": "310979f1",
   "metadata": {},
   "outputs": [],
   "source": [
    "# done!"
   ]
  }
 ],
 "metadata": {
  "kernelspec": {
   "display_name": "science_jubilee_testing",
   "language": "python",
   "name": "science_jubilee_testing"
  },
  "language_info": {
   "codemirror_mode": {
    "name": "ipython",
    "version": 3
   },
   "file_extension": ".py",
   "mimetype": "text/x-python",
   "name": "python",
   "nbconvert_exporter": "python",
   "pygments_lexer": "ipython3",
   "version": "3.7.3"
  }
 },
 "nbformat": 4,
 "nbformat_minor": 5
}
